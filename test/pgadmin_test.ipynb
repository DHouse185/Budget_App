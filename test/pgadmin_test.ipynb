{
 "cells": [
  {
   "cell_type": "code",
   "execution_count": 1,
   "metadata": {},
   "outputs": [],
   "source": [
    "import psycopg2 as pg2\n",
    "conn = pg2.connect(database='Budget', user='postgres', password=\"Dh41144185\")"
   ]
  },
  {
   "cell_type": "code",
   "execution_count": 2,
   "metadata": {},
   "outputs": [],
   "source": [
    "cur = conn.cursor()"
   ]
  },
  {
   "cell_type": "code",
   "execution_count": 3,
   "metadata": {},
   "outputs": [],
   "source": [
    "cur.execute(\"CREATE TABLE IF NOT EXISTS test_table \\\n",
    "            (transaction_id SERIAL UNIQUE PRIMARY KEY,\\\n",
    "            date DATE NOT NULL,\\\n",
    "            account VARCHAR(50) NOT NULL,\\\n",
    "            transaction_name TEXT,\\\n",
    "            amount NUMERIC(13,2) NOT NULL,\\\n",
    "            category VARCHAR(50));\")\n",
    "conn.commit()"
   ]
  },
  {
   "cell_type": "code",
   "execution_count": 4,
   "metadata": {},
   "outputs": [],
   "source": [
    "conn.rollback()"
   ]
  },
  {
   "cell_type": "code",
   "execution_count": 5,
   "metadata": {},
   "outputs": [
    {
     "data": {
      "text/plain": [
       "[(1,\n",
       "  datetime.date(2013, 1, 15),\n",
       "  'CHASE_CHECKING',\n",
       "  'McDonalds',\n",
       "  Decimal('10.13'),\n",
       "  'Food'),\n",
       " (2,\n",
       "  datetime.date(2013, 1, 20),\n",
       "  'CAPITAL_ONE',\n",
       "  'Walmart',\n",
       "  Decimal('58.56'),\n",
       "  'Grocery'),\n",
       " (3,\n",
       "  datetime.date(2013, 1, 23),\n",
       "  'CHASE_CHECKING',\n",
       "  'IKEA',\n",
       "  Decimal('350.65'),\n",
       "  'Free_Expense'),\n",
       " (4,\n",
       "  datetime.date(2013, 1, 29),\n",
       "  'CHASE_CHECKING',\n",
       "  'Wendys',\n",
       "  Decimal('6.53'),\n",
       "  'Food'),\n",
       " (5,\n",
       "  datetime.date(2013, 1, 15),\n",
       "  'CHASE_CHECKING',\n",
       "  'McDonalds',\n",
       "  Decimal('10.13'),\n",
       "  'Food'),\n",
       " (6,\n",
       "  datetime.date(2013, 1, 20),\n",
       "  'CAPITAL_ONE',\n",
       "  'Walmart',\n",
       "  Decimal('58.56'),\n",
       "  'Grocery'),\n",
       " (7,\n",
       "  datetime.date(2013, 1, 23),\n",
       "  'CHASE_CHECKING',\n",
       "  'IKEA',\n",
       "  Decimal('350.65'),\n",
       "  'Free_Expense'),\n",
       " (8,\n",
       "  datetime.date(2013, 1, 29),\n",
       "  'CHASE_CHECKING',\n",
       "  'Wendys',\n",
       "  Decimal('6.53'),\n",
       "  'Food')]"
      ]
     },
     "execution_count": 5,
     "metadata": {},
     "output_type": "execute_result"
    }
   ],
   "source": [
    "cur.execute(\"SELECT * FROM test_table\")\n",
    "results = cur.fetchall()\n",
    "results"
   ]
  },
  {
   "cell_type": "code",
   "execution_count": 6,
   "metadata": {},
   "outputs": [],
   "source": [
    "# cur.execute(\"\"\"INSERT INTO test_table (date, account, transaction_name, amount, category)\n",
    "#             VALUES\n",
    "#             ('01-15-2013', 'CHASE_CHECKING', 'McDonalds', 10.13, 'Food'),\n",
    "#             ('01-20-2013', 'CAPITAL_ONE', 'Walmart', 58.56, 'Grocery'),\n",
    "#             ('01-23-2013', 'CHASE_CHECKING', 'IKEA', 350.65, 'Free_Expense'),\n",
    "#             ('01-29-2013', 'CHASE_CHECKING', 'Wendys', 6.53, 'Food');\"\"\")\n",
    "# conn.commit()"
   ]
  },
  {
   "cell_type": "code",
   "execution_count": 7,
   "metadata": {},
   "outputs": [
    {
     "data": {
      "text/plain": [
       "[(1,\n",
       "  datetime.date(2013, 1, 15),\n",
       "  'CHASE_CHECKING',\n",
       "  'McDonalds',\n",
       "  Decimal('10.13'),\n",
       "  'Food'),\n",
       " (2,\n",
       "  datetime.date(2013, 1, 20),\n",
       "  'CAPITAL_ONE',\n",
       "  'Walmart',\n",
       "  Decimal('58.56'),\n",
       "  'Grocery'),\n",
       " (3,\n",
       "  datetime.date(2013, 1, 23),\n",
       "  'CHASE_CHECKING',\n",
       "  'IKEA',\n",
       "  Decimal('350.65'),\n",
       "  'Free_Expense'),\n",
       " (4,\n",
       "  datetime.date(2013, 1, 29),\n",
       "  'CHASE_CHECKING',\n",
       "  'Wendys',\n",
       "  Decimal('6.53'),\n",
       "  'Food'),\n",
       " (5,\n",
       "  datetime.date(2013, 1, 15),\n",
       "  'CHASE_CHECKING',\n",
       "  'McDonalds',\n",
       "  Decimal('10.13'),\n",
       "  'Food'),\n",
       " (6,\n",
       "  datetime.date(2013, 1, 20),\n",
       "  'CAPITAL_ONE',\n",
       "  'Walmart',\n",
       "  Decimal('58.56'),\n",
       "  'Grocery'),\n",
       " (7,\n",
       "  datetime.date(2013, 1, 23),\n",
       "  'CHASE_CHECKING',\n",
       "  'IKEA',\n",
       "  Decimal('350.65'),\n",
       "  'Free_Expense'),\n",
       " (8,\n",
       "  datetime.date(2013, 1, 29),\n",
       "  'CHASE_CHECKING',\n",
       "  'Wendys',\n",
       "  Decimal('6.53'),\n",
       "  'Food')]"
      ]
     },
     "execution_count": 7,
     "metadata": {},
     "output_type": "execute_result"
    }
   ],
   "source": [
    "cur.execute(\"SELECT * FROM test_table\")\n",
    "results = cur.fetchall()\n",
    "conn.rollback()\n",
    "results"
   ]
  },
  {
   "cell_type": "code",
   "execution_count": 8,
   "metadata": {},
   "outputs": [],
   "source": [
    "import pandas as pd\n",
    "df = pd.DataFrame(results)"
   ]
  },
  {
   "cell_type": "code",
   "execution_count": 9,
   "metadata": {},
   "outputs": [
    {
     "data": {
      "text/html": [
       "<div>\n",
       "<style scoped>\n",
       "    .dataframe tbody tr th:only-of-type {\n",
       "        vertical-align: middle;\n",
       "    }\n",
       "\n",
       "    .dataframe tbody tr th {\n",
       "        vertical-align: top;\n",
       "    }\n",
       "\n",
       "    .dataframe thead th {\n",
       "        text-align: right;\n",
       "    }\n",
       "</style>\n",
       "<table border=\"1\" class=\"dataframe\">\n",
       "  <thead>\n",
       "    <tr style=\"text-align: right;\">\n",
       "      <th></th>\n",
       "      <th>0</th>\n",
       "      <th>1</th>\n",
       "      <th>2</th>\n",
       "      <th>3</th>\n",
       "      <th>4</th>\n",
       "      <th>5</th>\n",
       "    </tr>\n",
       "  </thead>\n",
       "  <tbody>\n",
       "    <tr>\n",
       "      <th>0</th>\n",
       "      <td>1</td>\n",
       "      <td>2013-01-15</td>\n",
       "      <td>CHASE_CHECKING</td>\n",
       "      <td>McDonalds</td>\n",
       "      <td>10.13</td>\n",
       "      <td>Food</td>\n",
       "    </tr>\n",
       "    <tr>\n",
       "      <th>1</th>\n",
       "      <td>2</td>\n",
       "      <td>2013-01-20</td>\n",
       "      <td>CAPITAL_ONE</td>\n",
       "      <td>Walmart</td>\n",
       "      <td>58.56</td>\n",
       "      <td>Grocery</td>\n",
       "    </tr>\n",
       "    <tr>\n",
       "      <th>2</th>\n",
       "      <td>3</td>\n",
       "      <td>2013-01-23</td>\n",
       "      <td>CHASE_CHECKING</td>\n",
       "      <td>IKEA</td>\n",
       "      <td>350.65</td>\n",
       "      <td>Free_Expense</td>\n",
       "    </tr>\n",
       "    <tr>\n",
       "      <th>3</th>\n",
       "      <td>4</td>\n",
       "      <td>2013-01-29</td>\n",
       "      <td>CHASE_CHECKING</td>\n",
       "      <td>Wendys</td>\n",
       "      <td>6.53</td>\n",
       "      <td>Food</td>\n",
       "    </tr>\n",
       "    <tr>\n",
       "      <th>4</th>\n",
       "      <td>5</td>\n",
       "      <td>2013-01-15</td>\n",
       "      <td>CHASE_CHECKING</td>\n",
       "      <td>McDonalds</td>\n",
       "      <td>10.13</td>\n",
       "      <td>Food</td>\n",
       "    </tr>\n",
       "    <tr>\n",
       "      <th>5</th>\n",
       "      <td>6</td>\n",
       "      <td>2013-01-20</td>\n",
       "      <td>CAPITAL_ONE</td>\n",
       "      <td>Walmart</td>\n",
       "      <td>58.56</td>\n",
       "      <td>Grocery</td>\n",
       "    </tr>\n",
       "    <tr>\n",
       "      <th>6</th>\n",
       "      <td>7</td>\n",
       "      <td>2013-01-23</td>\n",
       "      <td>CHASE_CHECKING</td>\n",
       "      <td>IKEA</td>\n",
       "      <td>350.65</td>\n",
       "      <td>Free_Expense</td>\n",
       "    </tr>\n",
       "    <tr>\n",
       "      <th>7</th>\n",
       "      <td>8</td>\n",
       "      <td>2013-01-29</td>\n",
       "      <td>CHASE_CHECKING</td>\n",
       "      <td>Wendys</td>\n",
       "      <td>6.53</td>\n",
       "      <td>Food</td>\n",
       "    </tr>\n",
       "  </tbody>\n",
       "</table>\n",
       "</div>"
      ],
      "text/plain": [
       "   0           1               2          3       4             5\n",
       "0  1  2013-01-15  CHASE_CHECKING  McDonalds   10.13          Food\n",
       "1  2  2013-01-20     CAPITAL_ONE    Walmart   58.56       Grocery\n",
       "2  3  2013-01-23  CHASE_CHECKING       IKEA  350.65  Free_Expense\n",
       "3  4  2013-01-29  CHASE_CHECKING     Wendys    6.53          Food\n",
       "4  5  2013-01-15  CHASE_CHECKING  McDonalds   10.13          Food\n",
       "5  6  2013-01-20     CAPITAL_ONE    Walmart   58.56       Grocery\n",
       "6  7  2013-01-23  CHASE_CHECKING       IKEA  350.65  Free_Expense\n",
       "7  8  2013-01-29  CHASE_CHECKING     Wendys    6.53          Food"
      ]
     },
     "execution_count": 9,
     "metadata": {},
     "output_type": "execute_result"
    }
   ],
   "source": [
    "df"
   ]
  },
  {
   "cell_type": "markdown",
   "metadata": {},
   "source": [
    "```sql\n",
    "SELECT transaction_test.transaction_date, account_test.account, transaction_test.transaction_name, \n",
    "transaction_test.amount, category_test.category, sub_category_test.subcategory,\n",
    "category_type_test.category_type\n",
    "FROM transaction_test\n",
    "INNER JOIN transaction_data_test\n",
    "ON transaction_test.transaction_id = transaction_data_test.transaction_id\n",
    "INNER JOIN account_test\n",
    "ON account_test.account_id = transaction_data_test.account_id\n",
    "INNER JOIN category_test\n",
    "ON category_test.category_id = transaction_data_test.category_id\n",
    "INNER JOIN sub_category_test\n",
    "ON sub_category_test.sub_category_id = transaction_data_test.sub_category_id\n",
    "INNER JOIN category_type_test\n",
    "ON category_type_test.category_type_id = transaction_data_test.category_type_id\n",
    "ORDER BY transaction_test.transaction_date;"
   ]
  },
  {
   "cell_type": "markdown",
   "metadata": {},
   "source": [
    "### Let's try to create a scenario of tables for this project"
   ]
  },
  {
   "cell_type": "code",
   "execution_count": 10,
   "metadata": {},
   "outputs": [
    {
     "data": {
      "text/plain": [
       "(                   category\n",
       " category_id                \n",
       " 1                      Food\n",
       " 2            Transportation\n",
       " 3                   Grocery\n",
       " 4               Investments\n",
       " 5                     Bills\n",
       " 6              Free Expense\n",
       " 7                  Earnings\n",
       " 8                   Support\n",
       " 9                  Transfer,\n",
       "                          sub_category\n",
       " sub_category_id                      \n",
       " 1                          Phone Bill\n",
       " 2                       Car Insurance\n",
       " 3                          Restaurant\n",
       " 4                      Restaurant Tip\n",
       " 5                          Video Game\n",
       " 6                           Fast Food\n",
       " 7                       Grocery Store\n",
       " 8                             Walmart\n",
       " 9                            Donation\n",
       " 10                                Gas\n",
       " 11                Credit Card payment\n",
       " 12                     Student Loan 1\n",
       " 13                     Student Loan 2\n",
       " 14                      Back-a-Boiler\n",
       " 15                             Salary\n",
       " 16                          Comission\n",
       " 17                            Charity\n",
       " 18                    Car Maintenance\n",
       " 19                   Business Expense\n",
       " 20                              Taxes\n",
       " 21                        Car Expense\n",
       " 22                               Rent\n",
       " 23                  Crypto Investment\n",
       " 24                   Stock Investment\n",
       " 25                            Hygiene\n",
       " 26                   Savings Transfer\n",
       " 27                      Entertainment\n",
       " 28                               Gift\n",
       " 29                               Book\n",
       " 30               Subscription Renewal\n",
       " 31                              Snack\n",
       " 32                            Clothes\n",
       " 33                        Electronics\n",
       " 34                             Course\n",
       " 35                 Misc. Free Expense\n",
       " 36                             Costco\n",
       " 37                         Sam's Club,\n",
       "                              account\n",
       " account_id                          \n",
       " 1                     Chase Checking\n",
       " 2                      Chase Savings\n",
       " 3            Chase Freedom Unlimited\n",
       " 4              Capital One Savor One\n",
       " 5           Stocks and Bonds (65:35)\n",
       " 6                                IRA\n",
       " 7                             Ledger\n",
       " 8                         Binance US\n",
       " 9                 Other Crypt Wallet\n",
       " 10            Blackrock Money Market\n",
       " 11                     TD Ameritrade,\n",
       "                  category_type\n",
       " category_type_id              \n",
       " 1                       Income\n",
       " 2                      Expense\n",
       " 3                   Investment\n",
       " 4                      Payback\n",
       " 5                     Transfer,\n",
       "               month\n",
       " month_id           \n",
       " 1           January\n",
       " 2          February\n",
       " 3             March\n",
       " 4             April\n",
       " 5               May\n",
       " 6              June\n",
       " 7              July\n",
       " 8            August\n",
       " 9         September\n",
       " 10          October\n",
       " 11         November\n",
       " 12         December,\n",
       "                transaction_date transaction_name  amount\n",
       " transaction_id                                          \n",
       " 1                    2023-01-05          Wendy's    6.98\n",
       " 2                    2023-01-08              Gas   33.77\n",
       " 3                    2023-01-11             Dara   25.00\n",
       " 4                    2023-01-15       Phone Bill   40.00\n",
       " 5                    2023-01-16     Park-To-Shop   17.08\n",
       " 6                    2023-01-23      Spice House   50.72,\n",
       "    transaction_id  category_id  sub_category_id  account_id  category_type_id  \\\n",
       " 0               1            1                6           4                 2   \n",
       " 1               2            2               10           1                 2   \n",
       " 2               3            8                9           1                 2   \n",
       " 3               4            5                1           1                 2   \n",
       " 4               5            3                7           4                 2   \n",
       " 5               6            6                7           1                 2   \n",
       " \n",
       "    month_id  \n",
       " 0         1  \n",
       " 1         1  \n",
       " 2         1  \n",
       " 3         1  \n",
       " 4         1  \n",
       " 5         1  )"
      ]
     },
     "execution_count": 10,
     "metadata": {},
     "output_type": "execute_result"
    }
   ],
   "source": [
    "from datetime import datetime\n",
    "\n",
    "category = [\n",
    "    [1, \"Food\"],\n",
    "    [2, \"Transportation\"],\n",
    "    [3, \"Grocery\"],\n",
    "    [4, \"Investments\"],\n",
    "    [5, \"Bills\"],\n",
    "    [6, \"Free Expense\"],\n",
    "    [7, \"Earnings\"],\n",
    "    [8, \"Support\"],\n",
    "    [9, \"Transfer\"]\n",
    "]\n",
    "sub_category = [\n",
    "    [1, \"Phone Bill\"],\n",
    "    [2, \"Car Insurance\"],\n",
    "    [3, \"Restaurant\"],\n",
    "    [4, \"Restaurant Tip\"],\n",
    "    [5, \"Video Game\"],\n",
    "    [6, \"Fast Food\"],\n",
    "    [7, \"Grocery Store\"],\n",
    "    [8, \"Walmart\"],\n",
    "    [9, \"Donation\"],\n",
    "    [10, \"Gas\"],\n",
    "    [11, \"Credit Card payment\"],\n",
    "    [12, \"Student Loan 1\"],\n",
    "    [13, \"Student Loan 2\"],\n",
    "    [14, \"Back-a-Boiler\"],\n",
    "    [15, \"Salary\"],\n",
    "    [16, \"Comission\"],\n",
    "    [17, \"Charity\"],\n",
    "    [18, \"Car Maintenance\"],\n",
    "    [19, \"Business Expense\"],\n",
    "    [20, \"Taxes\"],\n",
    "    [21, \"Car Expense\"],\n",
    "    [22, \"Rent\"],\n",
    "    [23, \"Crypto Investment\"],\n",
    "    [24, \"Stock Investment\"],\n",
    "    [25, \"Hygiene\"],\n",
    "    [26, \"Savings Transfer\"],\n",
    "    [27, \"Entertainment\"],\n",
    "    [28, \"Gift\"],\n",
    "    [29, \"Book\"],\n",
    "    [30, \"Subscription Renewal\"],\n",
    "    [31, \"Snack\"],\n",
    "    [32, \"Clothes\"],\n",
    "    [33, \"Electronics\"],\n",
    "    [34, \"Course\"],\n",
    "    [35, \"Misc. Free Expense\"],\n",
    "    [36, \"Costco\"],\n",
    "    [37, \"Sam's Club\"]\n",
    "]\n",
    "\n",
    "account = [\n",
    "    [1, \"Chase Checking\"],\n",
    "    [2, \"Chase Savings\"],\n",
    "    [3, \"Chase Freedom Unlimited\"],\n",
    "    [4,  \"Capital One Savor One\"],\n",
    "    [5, \"Stocks and Bonds (65:35)\"],\n",
    "    [6, \"IRA\"],\n",
    "    [7, \"Ledger\"],\n",
    "    [8, \"Binance US\"],\n",
    "    [9, \"Other Crypt Wallet\"],\n",
    "    [10, \"Blackrock Money Market\"],\n",
    "    [11, \"TD Ameritrade\"]\n",
    "]\n",
    "\n",
    "category_type = [\n",
    "    [1, \"Income\"],\n",
    "    [2, \"Expense\"],\n",
    "    [3, \"Investment\"],\n",
    "    [4, \"Payback\"],\n",
    "    [5, \"Transfer\"]\n",
    "]\n",
    "\n",
    "month = [\n",
    "    [1, \"January\"],\n",
    "    [2, \"February\"],\n",
    "    [3, \"March\"],\n",
    "    [4,  \"April\"],\n",
    "    [5, \"May\"],\n",
    "    [6, \"June\"],\n",
    "    [7, \"July\"],\n",
    "    [8, \"August\"],\n",
    "    [9, \"September\"],\n",
    "    [10, \"October\"],\n",
    "    [11, \"November\"],\n",
    "    [12, \"December\"]\n",
    "]\n",
    "\n",
    "transaction = [\n",
    "    [1, datetime(2023, 1, 5), \"Wendy's\", 6.98],\n",
    "    [2, datetime(2023, 1, 8), \"Gas\", 33.77],\n",
    "    [3, datetime(2023, 1, 11), \"Dara\", 25.00],\n",
    "    [4, datetime(2023, 1, 15), \"Phone Bill\", 40.00],\n",
    "    [5, datetime(2023, 1, 16), \"Park-To-Shop\", 17.08],\n",
    "    [6, datetime(2023, 1, 23), \"Spice House\", 50.72]\n",
    "]\n",
    "\n",
    "transaction_data = [\n",
    "    [1, 1, 6, 4, 2, 1],\n",
    "    [2, 2, 10, 1, 2, 1],\n",
    "    [3, 8, 9, 1, 2, 1],\n",
    "    [4, 5, 1, 1, 2, 1],\n",
    "    [5, 3, 7, 4, 2, 1],\n",
    "    [6, 6, 7, 1, 2, 1]\n",
    "]\n",
    "category_df = pd.DataFrame(category, columns=['category_id', 'category']) \n",
    "category_df = category_df.set_index(['category_id'])\n",
    "sub_category_df = pd.DataFrame(sub_category, columns=['sub_category_id', 'sub_category'])\n",
    "sub_category_df = sub_category_df.set_index(['sub_category_id'])\n",
    "account_df = pd.DataFrame(account, columns=['account_id', 'account'])\n",
    "account_df = account_df.set_index(['account_id'])\n",
    "category_type_df = pd.DataFrame(category_type, columns=['category_type_id', 'category_type'])\n",
    "category_type_df = category_type_df.set_index(['category_type_id'])\n",
    "month_df = pd.DataFrame(month, columns=['month_id', 'month'])\n",
    "month_df = month_df.set_index(['month_id'])\n",
    "transaction_df = pd.DataFrame(transaction, columns=['transaction_id', 'transaction_date', 'transaction_name', \"amount\"]) \n",
    "transaction_df = transaction_df.set_index(['transaction_id'])\n",
    "transaction_data_df = pd.DataFrame(transaction_data, columns=['transaction_id', 'category_id', 'sub_category_id', 'account_id', 'category_type_id', 'month_id']) \n",
    "\n",
    "category_df, sub_category_df, account_df, category_type_df, month_df, transaction_df, transaction_data_df"
   ]
  },
  {
   "cell_type": "code",
   "execution_count": 11,
   "metadata": {},
   "outputs": [
    {
     "data": {
      "text/html": [
       "<div>\n",
       "<style scoped>\n",
       "    .dataframe tbody tr th:only-of-type {\n",
       "        vertical-align: middle;\n",
       "    }\n",
       "\n",
       "    .dataframe tbody tr th {\n",
       "        vertical-align: top;\n",
       "    }\n",
       "\n",
       "    .dataframe thead th {\n",
       "        text-align: right;\n",
       "    }\n",
       "</style>\n",
       "<table border=\"1\" class=\"dataframe\">\n",
       "  <thead>\n",
       "    <tr style=\"text-align: right;\">\n",
       "      <th></th>\n",
       "      <th>transaction_date</th>\n",
       "      <th>transaction_name</th>\n",
       "      <th>amount</th>\n",
       "    </tr>\n",
       "    <tr>\n",
       "      <th>transaction_id</th>\n",
       "      <th></th>\n",
       "      <th></th>\n",
       "      <th></th>\n",
       "    </tr>\n",
       "  </thead>\n",
       "  <tbody>\n",
       "    <tr>\n",
       "      <th>1</th>\n",
       "      <td>2023-01-05</td>\n",
       "      <td>Wendy's</td>\n",
       "      <td>6.98</td>\n",
       "    </tr>\n",
       "    <tr>\n",
       "      <th>2</th>\n",
       "      <td>2023-01-08</td>\n",
       "      <td>Gas</td>\n",
       "      <td>33.77</td>\n",
       "    </tr>\n",
       "    <tr>\n",
       "      <th>3</th>\n",
       "      <td>2023-01-11</td>\n",
       "      <td>Dara</td>\n",
       "      <td>25.00</td>\n",
       "    </tr>\n",
       "    <tr>\n",
       "      <th>4</th>\n",
       "      <td>2023-01-15</td>\n",
       "      <td>Phone Bill</td>\n",
       "      <td>40.00</td>\n",
       "    </tr>\n",
       "    <tr>\n",
       "      <th>5</th>\n",
       "      <td>2023-01-16</td>\n",
       "      <td>Park-To-Shop</td>\n",
       "      <td>17.08</td>\n",
       "    </tr>\n",
       "    <tr>\n",
       "      <th>6</th>\n",
       "      <td>2023-01-23</td>\n",
       "      <td>Spice House</td>\n",
       "      <td>50.72</td>\n",
       "    </tr>\n",
       "  </tbody>\n",
       "</table>\n",
       "</div>"
      ],
      "text/plain": [
       "               transaction_date transaction_name  amount\n",
       "transaction_id                                          \n",
       "1                    2023-01-05          Wendy's    6.98\n",
       "2                    2023-01-08              Gas   33.77\n",
       "3                    2023-01-11             Dara   25.00\n",
       "4                    2023-01-15       Phone Bill   40.00\n",
       "5                    2023-01-16     Park-To-Shop   17.08\n",
       "6                    2023-01-23      Spice House   50.72"
      ]
     },
     "execution_count": 11,
     "metadata": {},
     "output_type": "execute_result"
    }
   ],
   "source": [
    "transaction_df"
   ]
  },
  {
   "cell_type": "code",
   "execution_count": 12,
   "metadata": {},
   "outputs": [],
   "source": [
    "from datetime import datetime"
   ]
  },
  {
   "cell_type": "code",
   "execution_count": 13,
   "metadata": {},
   "outputs": [
    {
     "data": {
      "text/plain": [
       "'12023'"
      ]
     },
     "execution_count": 13,
     "metadata": {},
     "output_type": "execute_result"
    }
   ],
   "source": [
    "month_budget_id = str((int(1) * 10000) + int(2023))\n",
    "\n",
    "month_budget_id"
   ]
  },
  {
   "cell_type": "code",
   "execution_count": 17,
   "metadata": {},
   "outputs": [
    {
     "data": {
      "text/plain": [
       "datetime.datetime(2023, 1, 1, 0, 0)"
      ]
     },
     "execution_count": 17,
     "metadata": {},
     "output_type": "execute_result"
    }
   ],
   "source": [
    "# Get first day of the month\n",
    "date = datetime(year=int(month_budget_id[1:]), month=int(month_budget_id[0:1]), day=1)\n",
    "\n",
    "date"
   ]
  },
  {
   "cell_type": "code",
   "execution_count": 20,
   "metadata": {},
   "outputs": [
    {
     "data": {
      "text/plain": [
       "('2023-1-1', '2023-01-01')"
      ]
     },
     "execution_count": 20,
     "metadata": {},
     "output_type": "execute_result"
    }
   ],
   "source": [
    "first_date = f\"{date.year}-{date.month}-{date.day}\"\n",
    "first_date2 = f\"{date.strftime('%Y-%m-%d')}\"\n",
    "\n",
    "first_date, first_date2"
   ]
  },
  {
   "cell_type": "code",
   "execution_count": 21,
   "metadata": {},
   "outputs": [],
   "source": [
    "import calendar"
   ]
  },
  {
   "cell_type": "code",
   "execution_count": 22,
   "metadata": {},
   "outputs": [
    {
     "data": {
      "text/plain": [
       "((6, 31), 31)"
      ]
     },
     "execution_count": 22,
     "metadata": {},
     "output_type": "execute_result"
    }
   ],
   "source": [
    "res = calendar.monthrange(date.year, date.month)\n",
    "day = res[1]\n",
    "\n",
    "res, day"
   ]
  },
  {
   "cell_type": "code",
   "execution_count": 25,
   "metadata": {},
   "outputs": [
    {
     "name": "stdout",
     "output_type": "stream",
     "text": [
      "1\n",
      "2\n",
      "3\n",
      "4\n",
      "5\n",
      "6\n",
      "7\n",
      "8\n",
      "9\n",
      "10\n",
      "11\n",
      "12\n"
     ]
    },
    {
     "data": {
      "text/plain": [
       "({'January': 1,\n",
       "  'February': 2,\n",
       "  'March': 3,\n",
       "  'April': 4,\n",
       "  'May': 5,\n",
       "  'June': 6,\n",
       "  'July': 7,\n",
       "  'August': 8,\n",
       "  'September': 9,\n",
       "  'October': 10,\n",
       "  'November': 11,\n",
       "  'December': 12},\n",
       " dict_values([1, 2, 3, 4, 5, 6, 7, 8, 9, 10, 11, 12]))"
      ]
     },
     "execution_count": 25,
     "metadata": {},
     "output_type": "execute_result"
    }
   ],
   "source": [
    "month_dict ={\n",
    "    'January'  : 1,\n",
    "    'February' : 2,\n",
    "    'March'    : 3,\n",
    "    'April'    : 4,\n",
    "    'May'      : 5,\n",
    "    'June'     : 6,\n",
    "    'July'     : 7,\n",
    "    'August'   : 8,\n",
    "    'September': 9,\n",
    "    'October'  : 10,\n",
    "    'November' : 11,\n",
    "    'December' : 12,\n",
    "}\n",
    "month_list = month_dict.values()\n",
    "\n",
    "for month_int in month_list:\n",
    "    print(month_int)\n",
    "month_dict, month_list"
   ]
  },
  {
   "cell_type": "code",
   "execution_count": 50,
   "metadata": {},
   "outputs": [
    {
     "name": "stdout",
     "output_type": "stream",
     "text": [
      "<class 'int'>\n"
     ]
    }
   ],
   "source": [
    "def year_check(year=datetime.now().year):\n",
    "    print(year.__class__)\n",
    "    \n",
    "year_check(2012)"
   ]
  },
  {
   "cell_type": "code",
   "execution_count": 55,
   "metadata": {},
   "outputs": [
    {
     "name": "stdout",
     "output_type": "stream",
     "text": [
      "None\n",
      "[1, 2, 3, 4, 5, 6, 7, 8, 9]\n"
     ]
    }
   ],
   "source": [
    "empty_list = [(None,)]\n",
    "\n",
    "full_list = [1, 2, 3, 4, 5, 6, 7, 8, 9]\n",
    "\n",
    "print(empty_list[0][0])\n",
    "if not empty_list[0][0]:\n",
    "    print(full_list)"
   ]
  },
  {
   "cell_type": "code",
   "execution_count": 56,
   "metadata": {},
   "outputs": [
    {
     "ename": "IndexError",
     "evalue": "list index out of range",
     "output_type": "error",
     "traceback": [
      "\u001b[1;31m---------------------------------------------------------------------------\u001b[0m",
      "\u001b[1;31mIndexError\u001b[0m                                Traceback (most recent call last)",
      "\u001b[1;32mc:\\Users\\D'Andre House\\Codes\\Budget_app\\test\\pgadmin_test.ipynb Cell 23\u001b[0m in \u001b[0;36m1\n\u001b[1;32m----> <a href='vscode-notebook-cell:/c%3A/Users/D%27Andre%20House/Codes/Budget_app/test/pgadmin_test.ipynb#X31sZmlsZQ%3D%3D?line=0'>1</a>\u001b[0m full_list[\u001b[39m-\u001b[39;49m\u001b[39m22\u001b[39;49m]\n",
      "\u001b[1;31mIndexError\u001b[0m: list index out of range"
     ]
    }
   ],
   "source": []
  }
 ],
 "metadata": {
  "kernelspec": {
   "display_name": "tf_tf",
   "language": "python",
   "name": "python3"
  },
  "language_info": {
   "codemirror_mode": {
    "name": "ipython",
    "version": 3
   },
   "file_extension": ".py",
   "mimetype": "text/x-python",
   "name": "python",
   "nbconvert_exporter": "python",
   "pygments_lexer": "ipython3",
   "version": "3.9.13"
  },
  "orig_nbformat": 4
 },
 "nbformat": 4,
 "nbformat_minor": 2
}
