{
 "cells": [
  {
   "cell_type": "code",
   "execution_count": 1,
   "metadata": {},
   "outputs": [],
   "source": [
    "import psycopg2 as pg2\n",
    "conn = pg2.connect(database='Budget', user='postgres', password=\"Dh41144185\")"
   ]
  },
  {
   "cell_type": "code",
   "execution_count": 2,
   "metadata": {},
   "outputs": [],
   "source": [
    "cur = conn.cursor()"
   ]
  },
  {
   "cell_type": "code",
   "execution_count": 3,
   "metadata": {},
   "outputs": [],
   "source": [
    "cur.execute(\"CREATE TABLE IF NOT EXISTS test_table \\\n",
    "            (transaction_id SERIAL UNIQUE PRIMARY KEY,\\\n",
    "            date DATE NOT NULL,\\\n",
    "            account VARCHAR(50) NOT NULL,\\\n",
    "            transaction_name TEXT,\\\n",
    "            amount NUMERIC(13,2) NOT NULL,\\\n",
    "            category VARCHAR(50));\")\n",
    "conn.commit()"
   ]
  },
  {
   "cell_type": "code",
   "execution_count": 4,
   "metadata": {},
   "outputs": [],
   "source": [
    "conn.rollback()"
   ]
  },
  {
   "cell_type": "code",
   "execution_count": 5,
   "metadata": {},
   "outputs": [
    {
     "data": {
      "text/plain": [
       "[(1,\n",
       "  datetime.date(2013, 1, 15),\n",
       "  'CHASE_CHECKING',\n",
       "  'McDonalds',\n",
       "  Decimal('10.13'),\n",
       "  'Food'),\n",
       " (2,\n",
       "  datetime.date(2013, 1, 20),\n",
       "  'CAPITAL_ONE',\n",
       "  'Walmart',\n",
       "  Decimal('58.56'),\n",
       "  'Grocery'),\n",
       " (3,\n",
       "  datetime.date(2013, 1, 23),\n",
       "  'CHASE_CHECKING',\n",
       "  'IKEA',\n",
       "  Decimal('350.65'),\n",
       "  'Free_Expense'),\n",
       " (4,\n",
       "  datetime.date(2013, 1, 29),\n",
       "  'CHASE_CHECKING',\n",
       "  'Wendys',\n",
       "  Decimal('6.53'),\n",
       "  'Food')]"
      ]
     },
     "execution_count": 5,
     "metadata": {},
     "output_type": "execute_result"
    }
   ],
   "source": [
    "cur.execute(\"SELECT * FROM test_table\")\n",
    "results = cur.fetchall()\n",
    "results"
   ]
  },
  {
   "cell_type": "code",
   "execution_count": 6,
   "metadata": {},
   "outputs": [],
   "source": [
    "# cur.execute(\"\"\"INSERT INTO test_table (date, account, transaction_name, amount, category)\n",
    "#             VALUES\n",
    "#             ('01-15-2013', 'CHASE_CHECKING', 'McDonalds', 10.13, 'Food'),\n",
    "#             ('01-20-2013', 'CAPITAL_ONE', 'Walmart', 58.56, 'Grocery'),\n",
    "#             ('01-23-2013', 'CHASE_CHECKING', 'IKEA', 350.65, 'Free_Expense'),\n",
    "#             ('01-29-2013', 'CHASE_CHECKING', 'Wendys', 6.53, 'Food');\"\"\")\n",
    "# conn.commit()"
   ]
  },
  {
   "cell_type": "code",
   "execution_count": 7,
   "metadata": {},
   "outputs": [
    {
     "data": {
      "text/plain": [
       "[(1,\n",
       "  datetime.date(2013, 1, 15),\n",
       "  'CHASE_CHECKING',\n",
       "  'McDonalds',\n",
       "  Decimal('10.13'),\n",
       "  'Food'),\n",
       " (2,\n",
       "  datetime.date(2013, 1, 20),\n",
       "  'CAPITAL_ONE',\n",
       "  'Walmart',\n",
       "  Decimal('58.56'),\n",
       "  'Grocery'),\n",
       " (3,\n",
       "  datetime.date(2013, 1, 23),\n",
       "  'CHASE_CHECKING',\n",
       "  'IKEA',\n",
       "  Decimal('350.65'),\n",
       "  'Free_Expense'),\n",
       " (4,\n",
       "  datetime.date(2013, 1, 29),\n",
       "  'CHASE_CHECKING',\n",
       "  'Wendys',\n",
       "  Decimal('6.53'),\n",
       "  'Food'),\n",
       " (5,\n",
       "  datetime.date(2013, 1, 15),\n",
       "  'CHASE_CHECKING',\n",
       "  'McDonalds',\n",
       "  Decimal('10.13'),\n",
       "  'Food'),\n",
       " (6,\n",
       "  datetime.date(2013, 1, 20),\n",
       "  'CAPITAL_ONE',\n",
       "  'Walmart',\n",
       "  Decimal('58.56'),\n",
       "  'Grocery'),\n",
       " (7,\n",
       "  datetime.date(2013, 1, 23),\n",
       "  'CHASE_CHECKING',\n",
       "  'IKEA',\n",
       "  Decimal('350.65'),\n",
       "  'Free_Expense'),\n",
       " (8,\n",
       "  datetime.date(2013, 1, 29),\n",
       "  'CHASE_CHECKING',\n",
       "  'Wendys',\n",
       "  Decimal('6.53'),\n",
       "  'Food')]"
      ]
     },
     "execution_count": 7,
     "metadata": {},
     "output_type": "execute_result"
    }
   ],
   "source": [
    "cur.execute(\"SELECT * FROM test_table\")\n",
    "results = cur.fetchall()\n",
    "conn.rollback()\n",
    "results"
   ]
  },
  {
   "cell_type": "code",
   "execution_count": 8,
   "metadata": {},
   "outputs": [],
   "source": [
    "import pandas as pd\n",
    "df = pd.DataFrame(results)"
   ]
  },
  {
   "cell_type": "code",
   "execution_count": 9,
   "metadata": {},
   "outputs": [
    {
     "data": {
      "text/html": [
       "<div>\n",
       "<style scoped>\n",
       "    .dataframe tbody tr th:only-of-type {\n",
       "        vertical-align: middle;\n",
       "    }\n",
       "\n",
       "    .dataframe tbody tr th {\n",
       "        vertical-align: top;\n",
       "    }\n",
       "\n",
       "    .dataframe thead th {\n",
       "        text-align: right;\n",
       "    }\n",
       "</style>\n",
       "<table border=\"1\" class=\"dataframe\">\n",
       "  <thead>\n",
       "    <tr style=\"text-align: right;\">\n",
       "      <th></th>\n",
       "      <th>0</th>\n",
       "      <th>1</th>\n",
       "      <th>2</th>\n",
       "      <th>3</th>\n",
       "      <th>4</th>\n",
       "      <th>5</th>\n",
       "    </tr>\n",
       "  </thead>\n",
       "  <tbody>\n",
       "    <tr>\n",
       "      <th>0</th>\n",
       "      <td>1</td>\n",
       "      <td>2013-01-15</td>\n",
       "      <td>CHASE_CHECKING</td>\n",
       "      <td>McDonalds</td>\n",
       "      <td>10.13</td>\n",
       "      <td>Food</td>\n",
       "    </tr>\n",
       "    <tr>\n",
       "      <th>1</th>\n",
       "      <td>2</td>\n",
       "      <td>2013-01-20</td>\n",
       "      <td>CAPITAL_ONE</td>\n",
       "      <td>Walmart</td>\n",
       "      <td>58.56</td>\n",
       "      <td>Grocery</td>\n",
       "    </tr>\n",
       "    <tr>\n",
       "      <th>2</th>\n",
       "      <td>3</td>\n",
       "      <td>2013-01-23</td>\n",
       "      <td>CHASE_CHECKING</td>\n",
       "      <td>IKEA</td>\n",
       "      <td>350.65</td>\n",
       "      <td>Free_Expense</td>\n",
       "    </tr>\n",
       "    <tr>\n",
       "      <th>3</th>\n",
       "      <td>4</td>\n",
       "      <td>2013-01-29</td>\n",
       "      <td>CHASE_CHECKING</td>\n",
       "      <td>Wendys</td>\n",
       "      <td>6.53</td>\n",
       "      <td>Food</td>\n",
       "    </tr>\n",
       "    <tr>\n",
       "      <th>4</th>\n",
       "      <td>5</td>\n",
       "      <td>2013-01-15</td>\n",
       "      <td>CHASE_CHECKING</td>\n",
       "      <td>McDonalds</td>\n",
       "      <td>10.13</td>\n",
       "      <td>Food</td>\n",
       "    </tr>\n",
       "    <tr>\n",
       "      <th>5</th>\n",
       "      <td>6</td>\n",
       "      <td>2013-01-20</td>\n",
       "      <td>CAPITAL_ONE</td>\n",
       "      <td>Walmart</td>\n",
       "      <td>58.56</td>\n",
       "      <td>Grocery</td>\n",
       "    </tr>\n",
       "    <tr>\n",
       "      <th>6</th>\n",
       "      <td>7</td>\n",
       "      <td>2013-01-23</td>\n",
       "      <td>CHASE_CHECKING</td>\n",
       "      <td>IKEA</td>\n",
       "      <td>350.65</td>\n",
       "      <td>Free_Expense</td>\n",
       "    </tr>\n",
       "    <tr>\n",
       "      <th>7</th>\n",
       "      <td>8</td>\n",
       "      <td>2013-01-29</td>\n",
       "      <td>CHASE_CHECKING</td>\n",
       "      <td>Wendys</td>\n",
       "      <td>6.53</td>\n",
       "      <td>Food</td>\n",
       "    </tr>\n",
       "  </tbody>\n",
       "</table>\n",
       "</div>"
      ],
      "text/plain": [
       "   0           1               2          3       4             5\n",
       "0  1  2013-01-15  CHASE_CHECKING  McDonalds   10.13          Food\n",
       "1  2  2013-01-20     CAPITAL_ONE    Walmart   58.56       Grocery\n",
       "2  3  2013-01-23  CHASE_CHECKING       IKEA  350.65  Free_Expense\n",
       "3  4  2013-01-29  CHASE_CHECKING     Wendys    6.53          Food\n",
       "4  5  2013-01-15  CHASE_CHECKING  McDonalds   10.13          Food\n",
       "5  6  2013-01-20     CAPITAL_ONE    Walmart   58.56       Grocery\n",
       "6  7  2013-01-23  CHASE_CHECKING       IKEA  350.65  Free_Expense\n",
       "7  8  2013-01-29  CHASE_CHECKING     Wendys    6.53          Food"
      ]
     },
     "execution_count": 9,
     "metadata": {},
     "output_type": "execute_result"
    }
   ],
   "source": [
    "df"
   ]
  },
  {
   "cell_type": "markdown",
   "metadata": {},
   "source": [
    "```sql\n",
    "SELECT transaction_test.transaction_date, account_test.account, transaction_test.transaction_name, \n",
    "transaction_test.amount, category_test.category, sub_category_test.subcategory,\n",
    "category_type_test.category_type\n",
    "FROM transaction_test\n",
    "INNER JOIN transaction_data_test\n",
    "ON transaction_test.transaction_id = transaction_data_test.transaction_id\n",
    "INNER JOIN account_test\n",
    "ON account_test.account_id = transaction_data_test.account_id\n",
    "INNER JOIN category_test\n",
    "ON category_test.category_id = transaction_data_test.category_id\n",
    "INNER JOIN sub_category_test\n",
    "ON sub_category_test.sub_category_id = transaction_data_test.sub_category_id\n",
    "INNER JOIN category_type_test\n",
    "ON category_type_test.category_type_id = transaction_data_test.category_type_id\n",
    "ORDER BY transaction_test.transaction_date;"
   ]
  },
  {
   "cell_type": "markdown",
   "metadata": {},
   "source": [
    "### Let's try to create a scenario of tables for this project"
   ]
  },
  {
   "cell_type": "code",
   "execution_count": 10,
   "metadata": {},
   "outputs": [
    {
     "ename": "AttributeError",
     "evalue": "module 'pandas' has no attribute 'Dataframe'",
     "output_type": "error",
     "traceback": [
      "\u001b[1;31m---------------------------------------------------------------------------\u001b[0m",
      "\u001b[1;31mAttributeError\u001b[0m                            Traceback (most recent call last)",
      "\u001b[1;32mc:\\Users\\D'Andre House\\Codes\\Budget_app\\test\\pgadmin_test.ipynb Cell 12\u001b[0m in \u001b[0;36m1\n\u001b[1;32m----> <a href='vscode-notebook-cell:/c%3A/Users/D%27Andre%20House/Codes/Budget_app/test/pgadmin_test.ipynb#X21sZmlsZQ%3D%3D?line=0'>1</a>\u001b[0m category \u001b[39m=\u001b[39m pd\u001b[39m.\u001b[39;49mDataframe()\n",
      "File \u001b[1;32m~\\AppData\\Roaming\\Python\\Python39\\site-packages\\pandas\\__init__.py:244\u001b[0m, in \u001b[0;36m__getattr__\u001b[1;34m(name)\u001b[0m\n\u001b[0;32m    240\u001b[0m     \u001b[39mfrom\u001b[39;00m \u001b[39mpandas\u001b[39;00m\u001b[39m.\u001b[39;00m\u001b[39mcore\u001b[39;00m\u001b[39m.\u001b[39;00m\u001b[39marrays\u001b[39;00m\u001b[39m.\u001b[39;00m\u001b[39msparse\u001b[39;00m \u001b[39mimport\u001b[39;00m SparseArray \u001b[39mas\u001b[39;00m _SparseArray\n\u001b[0;32m    242\u001b[0m     \u001b[39mreturn\u001b[39;00m _SparseArray\n\u001b[1;32m--> 244\u001b[0m \u001b[39mraise\u001b[39;00m \u001b[39mAttributeError\u001b[39;00m(\u001b[39mf\u001b[39m\u001b[39m\"\u001b[39m\u001b[39mmodule \u001b[39m\u001b[39m'\u001b[39m\u001b[39mpandas\u001b[39m\u001b[39m'\u001b[39m\u001b[39m has no attribute \u001b[39m\u001b[39m'\u001b[39m\u001b[39m{\u001b[39;00mname\u001b[39m}\u001b[39;00m\u001b[39m'\u001b[39m\u001b[39m\"\u001b[39m)\n",
      "\u001b[1;31mAttributeError\u001b[0m: module 'pandas' has no attribute 'Dataframe'"
     ]
    }
   ],
   "source": [
    "data_category = [\n",
    "    [1, \"Food\"],\n",
    "    [2, \"Transportation\"],\n",
    "    [3, \"Grocery\"],\n",
    "    [4, \"Investments\"],\n",
    "    [5, \"Bills\"],\n",
    "    [6, \"Free Expense\"],\n",
    "    [7, \"Earnings\"],\n",
    "    [7, \"Support\"],\n",
    "    [7, \"Transfer\"]\n",
    "]\n",
    "sub_category = [\n",
    "    [, \"Phone Bill\"],\n",
    "    [, \"Car Insurance\"],\n",
    "    [, \"Restaurant\"],\n",
    "    [,  \"Restaurant Tip\"],\n",
    "    [, \"Video Game\"],\n",
    "    [, \"Fast Food\"],\n",
    "    [, \"Grocery Store\"],\n",
    "    [, \"Walmart\"],\n",
    "    [, \"Donation\"],\n",
    "    [, \"Gas\"],\n",
    "    [, \"Credit Card payment\"],\n",
    "    [, \"Student Loan 1\"],\n",
    "    [, \"Student Loan 2\"],\n",
    "    [, \"Back-a-Boiler\"],\n",
    "    [, \"Salary\"],\n",
    "    [, \"Comission\"],\n",
    "    [, \"Charity\"],\n",
    "    [, \"Car Maintenance\"],\n",
    "    [, \"Business Expense\"],\n",
    "    [, \"Taxes\"],\n",
    "    [, \"Car Expense\"],\n",
    "    [, \"Rent\"],\n",
    "    [, \"Crypto Investment\"],\n",
    "    [, \"Stock Investment\"],\n",
    "    [, \"Hygiene\"],\n",
    "    [, \"Savings Transfer\"],\n",
    "    [, \"Entertainment\"],\n",
    "    [, \"Gift\"],\n",
    "    [, \"Book\"],\n",
    "    [, \"Subscription Renewal\"],\n",
    "    [, \"Snack\"],\n",
    "    [, \"Clothes\"],\n",
    "    [, \"Electronics\"],\n",
    "    [, \"Course\"],\n",
    "    [, \"Misc. Free Expense\"],\n",
    "    [, \"Costco\"],\n",
    "    [, \"Sam's Club\"]\n",
    "]\n",
    "\n",
    "\n",
    "\n",
    "\n",
    "category = pd.Dataframe()"
   ]
  },
  {
   "cell_type": "code",
   "execution_count": null,
   "metadata": {},
   "outputs": [],
   "source": []
  }
 ],
 "metadata": {
  "kernelspec": {
   "display_name": "tf_tf",
   "language": "python",
   "name": "python3"
  },
  "language_info": {
   "codemirror_mode": {
    "name": "ipython",
    "version": 3
   },
   "file_extension": ".py",
   "mimetype": "text/x-python",
   "name": "python",
   "nbconvert_exporter": "python",
   "pygments_lexer": "ipython3",
   "version": "3.9.13"
  },
  "orig_nbformat": 4
 },
 "nbformat": 4,
 "nbformat_minor": 2
}
