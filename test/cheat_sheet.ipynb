{
 "cells": [
  {
   "cell_type": "markdown",
   "metadata": {},
   "source": [
    "# Cheat Sheet"
   ]
  },
  {
   "cell_type": "markdown",
   "metadata": {},
   "source": [
    "## Connecting to postgress\n",
    "\n",
    "```python\n",
    "import psycopg2 as pg2\n",
    "conn = pg2.connect(database='Database_name', user='USER_ACCOUTN', password=\"PASSWORD\")```"
   ]
  },
  {
   "cell_type": "markdown",
   "metadata": {},
   "source": [
    "## Create query"
   ]
  },
  {
   "cell_type": "markdown",
   "metadata": {},
   "source": [
    "You can create postgress queries by first setting up a cursor\n",
    "\n",
    "then you create an  `execute` instance with the SQL query\n",
    "\n",
    "**Make sure to `conn.commit()` or `conn.rollback()` after query** \n",
    "```python\n",
    "cur = conn.cursor()\n",
    "\n",
    "cur.execute(\"CREATE TABLE IF NOT EXISTS test_table \\\n",
    "            (transaction_id SERIAL UNIQUE PRIMARY KEY,\\\n",
    "            date DATE NOT NULL,\\\n",
    "            account VARCHAR(50) NOT NULL,\\\n",
    "            transaction_name TEXT,\\\n",
    "            amount NUMERIC(13,2) NOT NULL,\\\n",
    "            category VARCHAR(50));\")\n",
    "conn.commit()"
   ]
  },
  {
   "cell_type": "markdown",
   "metadata": {},
   "source": [
    "***You can get the query data and convert it to a pandas dataframe doing the following***\n",
    "\n",
    "```python\n",
    "cur.execute(\"SELECT * FROM test_table\")\n",
    "results = cur.fetchall()\n",
    "\n",
    "import pandas as pd\n",
    "df = pd.DataFrame(results)"
   ]
  },
  {
   "cell_type": "markdown",
   "metadata": {},
   "source": [
    "### Example"
   ]
  },
  {
   "cell_type": "code",
   "execution_count": 2,
   "metadata": {},
   "outputs": [
    {
     "data": {
      "text/plain": [
       "[(1,\n",
       "  datetime.date(2013, 1, 15),\n",
       "  'CHASE_CHECKING',\n",
       "  'McDonalds',\n",
       "  Decimal('10.13'),\n",
       "  'Food'),\n",
       " (2,\n",
       "  datetime.date(2013, 1, 20),\n",
       "  'CAPITAL_ONE',\n",
       "  'Walmart',\n",
       "  Decimal('58.56'),\n",
       "  'Grocery'),\n",
       " (3,\n",
       "  datetime.date(2013, 1, 23),\n",
       "  'CHASE_CHECKING',\n",
       "  'IKEA',\n",
       "  Decimal('350.65'),\n",
       "  'Free_Expense'),\n",
       " (4,\n",
       "  datetime.date(2013, 1, 29),\n",
       "  'CHASE_CHECKING',\n",
       "  'Wendys',\n",
       "  Decimal('6.53'),\n",
       "  'Food')]"
      ]
     },
     "execution_count": 2,
     "metadata": {},
     "output_type": "execute_result"
    }
   ],
   "source": [
    "import psycopg2 as pg2\n",
    "import pandas as pd\n",
    "\n",
    "conn = pg2.connect(database='Budget', user='postgres', password=\"Dh41144185\")\n",
    "\n",
    "cur = conn.cursor()\n",
    "cur.execute(\"CREATE TABLE IF NOT EXISTS test_table \\\n",
    "            (transaction_id SERIAL UNIQUE PRIMARY KEY,\\\n",
    "            date DATE NOT NULL,\\\n",
    "            account VARCHAR(50) NOT NULL,\\\n",
    "            transaction_name TEXT,\\\n",
    "            amount NUMERIC(13,2) NOT NULL,\\\n",
    "            category VARCHAR(50));\")\n",
    "conn.commit()\n",
    "\n",
    "cur.execute(\"SELECT * FROM test_table\")\n",
    "results = cur.fetchall()\n",
    "conn.commit()\n",
    "results\n"
   ]
  },
  {
   "cell_type": "code",
   "execution_count": 3,
   "metadata": {},
   "outputs": [
    {
     "data": {
      "text/html": [
       "<div>\n",
       "<style scoped>\n",
       "    .dataframe tbody tr th:only-of-type {\n",
       "        vertical-align: middle;\n",
       "    }\n",
       "\n",
       "    .dataframe tbody tr th {\n",
       "        vertical-align: top;\n",
       "    }\n",
       "\n",
       "    .dataframe thead th {\n",
       "        text-align: right;\n",
       "    }\n",
       "</style>\n",
       "<table border=\"1\" class=\"dataframe\">\n",
       "  <thead>\n",
       "    <tr style=\"text-align: right;\">\n",
       "      <th></th>\n",
       "      <th>0</th>\n",
       "      <th>1</th>\n",
       "      <th>2</th>\n",
       "      <th>3</th>\n",
       "      <th>4</th>\n",
       "      <th>5</th>\n",
       "    </tr>\n",
       "  </thead>\n",
       "  <tbody>\n",
       "    <tr>\n",
       "      <th>0</th>\n",
       "      <td>1</td>\n",
       "      <td>2013-01-15</td>\n",
       "      <td>CHASE_CHECKING</td>\n",
       "      <td>McDonalds</td>\n",
       "      <td>10.13</td>\n",
       "      <td>Food</td>\n",
       "    </tr>\n",
       "    <tr>\n",
       "      <th>1</th>\n",
       "      <td>2</td>\n",
       "      <td>2013-01-20</td>\n",
       "      <td>CAPITAL_ONE</td>\n",
       "      <td>Walmart</td>\n",
       "      <td>58.56</td>\n",
       "      <td>Grocery</td>\n",
       "    </tr>\n",
       "    <tr>\n",
       "      <th>2</th>\n",
       "      <td>3</td>\n",
       "      <td>2013-01-23</td>\n",
       "      <td>CHASE_CHECKING</td>\n",
       "      <td>IKEA</td>\n",
       "      <td>350.65</td>\n",
       "      <td>Free_Expense</td>\n",
       "    </tr>\n",
       "    <tr>\n",
       "      <th>3</th>\n",
       "      <td>4</td>\n",
       "      <td>2013-01-29</td>\n",
       "      <td>CHASE_CHECKING</td>\n",
       "      <td>Wendys</td>\n",
       "      <td>6.53</td>\n",
       "      <td>Food</td>\n",
       "    </tr>\n",
       "  </tbody>\n",
       "</table>\n",
       "</div>"
      ],
      "text/plain": [
       "   0           1               2          3       4             5\n",
       "0  1  2013-01-15  CHASE_CHECKING  McDonalds   10.13          Food\n",
       "1  2  2013-01-20     CAPITAL_ONE    Walmart   58.56       Grocery\n",
       "2  3  2013-01-23  CHASE_CHECKING       IKEA  350.65  Free_Expense\n",
       "3  4  2013-01-29  CHASE_CHECKING     Wendys    6.53          Food"
      ]
     },
     "execution_count": 3,
     "metadata": {},
     "output_type": "execute_result"
    }
   ],
   "source": [
    "df = pd.DataFrame(results)\n",
    "df"
   ]
  },
  {
   "cell_type": "markdown",
   "metadata": {},
   "source": [
    "## Dynamically Create PyQT6 Objects"
   ]
  },
  {
   "cell_type": "markdown",
   "metadata": {},
   "source": [
    "#### Qlabel dynamic creation\n",
    "\n",
    "```python\n",
    "# Creating headers for scrollAreaWidgetContents\n",
    "self._headers = [\"symbol\", \"exchange\", \"bid\", \"ask\", \"remove\"]\n",
    "        \n",
    "# Create a list of QLabels for the number of headers \n",
    "self._headers_labels = [QLabel() for _ in range(len(self._headers))]\n",
    "\n",
    "# enumerate over QLabel list\n",
    "for idx, h in enumerate(self._headers_labels):\n",
    "    \n",
    "    # Give each header QLabel a setObjectName. Good for stylesheet\n",
    "    h.setObjectName(f\"label_{self._headers[idx]}\")\n",
    "    \n",
    "    if self._headers[idx] == 'remove':\n",
    "        h.setText(\"\") # remove Qlabel isn't need initially\n",
    "        \n",
    "    else:\n",
    "        h.setText(f\"{self._headers[idx]}\") # initiate headers text\n",
    "        h.setMinimumWidth(200)\n",
    "        \n",
    "    self._headers_frame.addWidget(h, 0, idx) # remember, headers are in scroll area\n",
    "\n",
    "# Fill initiated dictionary with header dictionary     \n",
    "for h in self._headers:\n",
    "    \n",
    "    self.body_widgets[h] = dict()\n",
    "    \n",
    "    if h in ['bid', 'ask']:\n",
    "        self.body_widgets[h + \"_var\"] = dict()"
   ]
  },
  {
   "cell_type": "markdown",
   "metadata": {},
   "source": [
    "## PRIMARY KEYS and FOREIGN KEYS (SQL)"
   ]
  },
  {
   "cell_type": "markdown",
   "metadata": {},
   "source": [
    " - Primary key can be used to help join tables together\n",
    " - A Foreign key is a field or group of fields in a table that uniquely identifies a row in annother table\n",
    "\n"
   ]
  },
  {
   "cell_type": "markdown",
   "metadata": {},
   "source": [
    "#### Creating a table with a foreign key\n",
    "\n",
    "```python\n",
    "cur.execute(\"\"\"CREATE TABLE account_job(\n",
    "    user_id INTEGER REFERENCES account(user_id),\n",
    "    job_id INTEGER REFERNCES job(job_id),\n",
    "    hire_date TIMESTAMP\n",
    ");\"\"\")\n",
    "conn.commit()```"
   ]
  },
  {
   "cell_type": "markdown",
   "metadata": {},
   "source": [
    "## Inner Join"
   ]
  },
  {
   "cell_type": "markdown",
   "metadata": {},
   "source": [
    "- **JOINS** allow us to combine multiple tables together.\n",
    "- reason is to deal with information only present in one of the joined tables. "
   ]
  },
  {
   "cell_type": "markdown",
   "metadata": {},
   "source": [
    "**SYNTAX**\n",
    "\n",
    "``` sql\n",
    "SELECT * FROM TableA\n",
    "INNER JOIN TableB\n",
    "ON TableA.col_match = TableB.col_match;"
   ]
  },
  {
   "cell_type": "markdown",
   "metadata": {},
   "source": [
    "### Dealing with PyQt6 ScrollArea"
   ]
  },
  {
   "cell_type": "markdown",
   "metadata": {},
   "source": [
    "**What you'll need**\n",
    "- PyQt6.QtWidgets.QScrollArea\n",
    "- PyQt6.QtWidgets.QWidget\n",
    "\n",
    "```python\n",
    "import PyQt6.QtWidgets.QScrollArea\n",
    "import PyQt6.QtWidgets.QWidget\n",
    "import PyQt6.QtWidgets.QLabel\n",
    "\n",
    "scrollarea = PyQt6.QtWidgets.QScrollArea()\n",
    "scrollarea.setWidgetResizable(True)\n",
    "scrollarea.setMaximumsize(500, 600)\n",
    "scrollarea.height(500)\n",
    "scrollarea.width(600)\n",
    "scrollareacontent = PyQt6.QtWidgets.QWidget()\n",
    "label = PyQt6.QtWidgets.QLabel(scrollareacontent)\n",
    "scrollarea.setWidget(scrollareacontent)"
   ]
  },
  {
   "cell_type": "markdown",
   "metadata": {},
   "source": []
  }
 ],
 "metadata": {
  "kernelspec": {
   "display_name": "tf_tf",
   "language": "python",
   "name": "python3"
  },
  "language_info": {
   "codemirror_mode": {
    "name": "ipython",
    "version": 3
   },
   "file_extension": ".py",
   "mimetype": "text/x-python",
   "name": "python",
   "nbconvert_exporter": "python",
   "pygments_lexer": "ipython3",
   "version": "3.9.13"
  },
  "orig_nbformat": 4
 },
 "nbformat": 4,
 "nbformat_minor": 2
}
